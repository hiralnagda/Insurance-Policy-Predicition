{
 "cells": [
  {
   "cell_type": "code",
   "execution_count": 1,
   "metadata": {
    "collapsed": true
   },
   "outputs": [],
   "source": [
    "import numpy as np\n",
    "import pandas as pd\n",
    "\n",
    "from sklearn import tree\n",
    "from sklearn.tree import DecisionTreeClassifier\n",
    "from sklearn.model_selection import train_test_split\n",
    "\n",
    "from matplotlib import pyplot as plt\n",
    "import seaborn as sns\n",
    "\n",
    "import graphviz\n",
    "import pydotplus\n",
    "import io\n",
    "\n",
    "from scipy import misc\n",
    "\n",
    "%matplotlib inline"
   ]
  },
  {
   "cell_type": "code",
   "execution_count": 2,
   "metadata": {
    "collapsed": true
   },
   "outputs": [],
   "source": [
    "data=pd.read_csv('data1.csv')"
   ]
  },
  {
   "cell_type": "code",
   "execution_count": 3,
   "metadata": {},
   "outputs": [
    {
     "data": {
      "text/html": [
       "<div>\n",
       "<style>\n",
       "    .dataframe thead tr:only-child th {\n",
       "        text-align: right;\n",
       "    }\n",
       "\n",
       "    .dataframe thead th {\n",
       "        text-align: left;\n",
       "    }\n",
       "\n",
       "    .dataframe tbody tr th {\n",
       "        vertical-align: top;\n",
       "    }\n",
       "</style>\n",
       "<table border=\"1\" class=\"dataframe\">\n",
       "  <thead>\n",
       "    <tr style=\"text-align: right;\">\n",
       "      <th></th>\n",
       "      <th>Policy1</th>\n",
       "      <th>No_Kids</th>\n",
       "      <th>Age</th>\n",
       "      <th>Maratial_status</th>\n",
       "      <th>Gender</th>\n",
       "      <th>Income</th>\n",
       "      <th>Education</th>\n",
       "      <th>Smoking.and.alcohol</th>\n",
       "      <th>Weight</th>\n",
       "      <th>Height</th>\n",
       "      <th>Term</th>\n",
       "      <th>sumAssured</th>\n",
       "    </tr>\n",
       "  </thead>\n",
       "  <tbody>\n",
       "    <tr>\n",
       "      <th>count</th>\n",
       "      <td>3999.000000</td>\n",
       "      <td>3999.000000</td>\n",
       "      <td>3999.000000</td>\n",
       "      <td>3999.000000</td>\n",
       "      <td>3999.000000</td>\n",
       "      <td>3999.000000</td>\n",
       "      <td>3999.000000</td>\n",
       "      <td>3999.000000</td>\n",
       "      <td>3999.000000</td>\n",
       "      <td>3999.000000</td>\n",
       "      <td>3999.000000</td>\n",
       "      <td>3.999000e+03</td>\n",
       "    </tr>\n",
       "    <tr>\n",
       "      <th>mean</th>\n",
       "      <td>4.924231</td>\n",
       "      <td>0.810453</td>\n",
       "      <td>31.290073</td>\n",
       "      <td>0.638410</td>\n",
       "      <td>0.496624</td>\n",
       "      <td>22.817954</td>\n",
       "      <td>1.692673</td>\n",
       "      <td>0.482871</td>\n",
       "      <td>77.788697</td>\n",
       "      <td>169.810203</td>\n",
       "      <td>24.809202</td>\n",
       "      <td>4.662456e+06</td>\n",
       "    </tr>\n",
       "    <tr>\n",
       "      <th>std</th>\n",
       "      <td>1.947667</td>\n",
       "      <td>0.842577</td>\n",
       "      <td>14.260367</td>\n",
       "      <td>0.480521</td>\n",
       "      <td>0.500051</td>\n",
       "      <td>30.147841</td>\n",
       "      <td>0.976627</td>\n",
       "      <td>0.499769</td>\n",
       "      <td>18.908513</td>\n",
       "      <td>11.928113</td>\n",
       "      <td>9.301834</td>\n",
       "      <td>6.455826e+06</td>\n",
       "    </tr>\n",
       "    <tr>\n",
       "      <th>min</th>\n",
       "      <td>1.000000</td>\n",
       "      <td>0.000000</td>\n",
       "      <td>5.000000</td>\n",
       "      <td>0.000000</td>\n",
       "      <td>0.000000</td>\n",
       "      <td>0.000000</td>\n",
       "      <td>0.000000</td>\n",
       "      <td>0.000000</td>\n",
       "      <td>45.000000</td>\n",
       "      <td>150.000000</td>\n",
       "      <td>10.000000</td>\n",
       "      <td>7.914500e+04</td>\n",
       "    </tr>\n",
       "    <tr>\n",
       "      <th>25%</th>\n",
       "      <td>4.000000</td>\n",
       "      <td>0.000000</td>\n",
       "      <td>23.000000</td>\n",
       "      <td>0.000000</td>\n",
       "      <td>0.000000</td>\n",
       "      <td>1.000000</td>\n",
       "      <td>1.000000</td>\n",
       "      <td>0.000000</td>\n",
       "      <td>62.000000</td>\n",
       "      <td>159.000000</td>\n",
       "      <td>20.000000</td>\n",
       "      <td>3.000000e+05</td>\n",
       "    </tr>\n",
       "    <tr>\n",
       "      <th>50%</th>\n",
       "      <td>5.000000</td>\n",
       "      <td>1.000000</td>\n",
       "      <td>27.000000</td>\n",
       "      <td>1.000000</td>\n",
       "      <td>0.000000</td>\n",
       "      <td>6.000000</td>\n",
       "      <td>2.000000</td>\n",
       "      <td>0.000000</td>\n",
       "      <td>78.000000</td>\n",
       "      <td>170.000000</td>\n",
       "      <td>23.000000</td>\n",
       "      <td>1.340821e+06</td>\n",
       "    </tr>\n",
       "    <tr>\n",
       "      <th>75%</th>\n",
       "      <td>7.000000</td>\n",
       "      <td>2.000000</td>\n",
       "      <td>39.000000</td>\n",
       "      <td>1.000000</td>\n",
       "      <td>1.000000</td>\n",
       "      <td>41.000000</td>\n",
       "      <td>2.000000</td>\n",
       "      <td>1.000000</td>\n",
       "      <td>94.000000</td>\n",
       "      <td>180.000000</td>\n",
       "      <td>27.000000</td>\n",
       "      <td>7.500000e+06</td>\n",
       "    </tr>\n",
       "    <tr>\n",
       "      <th>max</th>\n",
       "      <td>8.000000</td>\n",
       "      <td>2.000000</td>\n",
       "      <td>70.000000</td>\n",
       "      <td>1.000000</td>\n",
       "      <td>1.000000</td>\n",
       "      <td>100.000000</td>\n",
       "      <td>3.000000</td>\n",
       "      <td>1.000000</td>\n",
       "      <td>110.000000</td>\n",
       "      <td>190.000000</td>\n",
       "      <td>70.000000</td>\n",
       "      <td>5.420000e+07</td>\n",
       "    </tr>\n",
       "  </tbody>\n",
       "</table>\n",
       "</div>"
      ],
      "text/plain": [
       "           Policy1      No_Kids          Age  Maratial_status       Gender  \\\n",
       "count  3999.000000  3999.000000  3999.000000      3999.000000  3999.000000   \n",
       "mean      4.924231     0.810453    31.290073         0.638410     0.496624   \n",
       "std       1.947667     0.842577    14.260367         0.480521     0.500051   \n",
       "min       1.000000     0.000000     5.000000         0.000000     0.000000   \n",
       "25%       4.000000     0.000000    23.000000         0.000000     0.000000   \n",
       "50%       5.000000     1.000000    27.000000         1.000000     0.000000   \n",
       "75%       7.000000     2.000000    39.000000         1.000000     1.000000   \n",
       "max       8.000000     2.000000    70.000000         1.000000     1.000000   \n",
       "\n",
       "            Income    Education  Smoking.and.alcohol       Weight  \\\n",
       "count  3999.000000  3999.000000          3999.000000  3999.000000   \n",
       "mean     22.817954     1.692673             0.482871    77.788697   \n",
       "std      30.147841     0.976627             0.499769    18.908513   \n",
       "min       0.000000     0.000000             0.000000    45.000000   \n",
       "25%       1.000000     1.000000             0.000000    62.000000   \n",
       "50%       6.000000     2.000000             0.000000    78.000000   \n",
       "75%      41.000000     2.000000             1.000000    94.000000   \n",
       "max     100.000000     3.000000             1.000000   110.000000   \n",
       "\n",
       "            Height         Term    sumAssured  \n",
       "count  3999.000000  3999.000000  3.999000e+03  \n",
       "mean    169.810203    24.809202  4.662456e+06  \n",
       "std      11.928113     9.301834  6.455826e+06  \n",
       "min     150.000000    10.000000  7.914500e+04  \n",
       "25%     159.000000    20.000000  3.000000e+05  \n",
       "50%     170.000000    23.000000  1.340821e+06  \n",
       "75%     180.000000    27.000000  7.500000e+06  \n",
       "max     190.000000    70.000000  5.420000e+07  "
      ]
     },
     "execution_count": 3,
     "metadata": {},
     "output_type": "execute_result"
    }
   ],
   "source": [
    "data.describe()\n"
   ]
  },
  {
   "cell_type": "code",
   "execution_count": 7,
   "metadata": {
    "collapsed": true
   },
   "outputs": [],
   "source": [
    "train,test=train_test_split(data,test_size=0.2)"
   ]
  },
  {
   "cell_type": "code",
   "execution_count": 8,
   "metadata": {},
   "outputs": [
    {
     "name": "stdout",
     "output_type": "stream",
     "text": [
      "Training size: 3199 Test Size:800\n"
     ]
    }
   ],
   "source": [
    "print(\"Training size: {} Test Size:{}\".format(len(train),len(test)))"
   ]
  },
  {
   "cell_type": "code",
   "execution_count": 10,
   "metadata": {},
   "outputs": [],
   "source": [
    "features=[\"No_Kids\",\"Age\",\"Maratial_status\",\"Gender\",\"Income\",\"Education\",\"Smoking.and.alcohol\",\"Weight\",\"Height\",\"Term\",\"sumAssured\"]\n",
    "X_train=train[features]\n",
    "Y_train=train[\"Policy1\"]\n",
    "X_test=test[features]\n",
    "Y_test=test[\"Policy1\"]"
   ]
  },
  {
   "cell_type": "code",
   "execution_count": null,
   "metadata": {
    "collapsed": true
   },
   "outputs": [],
   "source": []
  }
 ],
 "metadata": {
  "kernelspec": {
   "display_name": "Python 3",
   "language": "python",
   "name": "python3"
  },
  "language_info": {
   "codemirror_mode": {
    "name": "ipython",
    "version": 3
   },
   "file_extension": ".py",
   "mimetype": "text/x-python",
   "name": "python",
   "nbconvert_exporter": "python",
   "pygments_lexer": "ipython3",
   "version": "3.6.2"
  }
 },
 "nbformat": 4,
 "nbformat_minor": 2
}
