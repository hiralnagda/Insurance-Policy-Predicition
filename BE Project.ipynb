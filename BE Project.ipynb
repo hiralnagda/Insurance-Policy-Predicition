{
 "cells": [
  {
   "cell_type": "markdown",
   "metadata": {},
   "source": [
    "# Insurance Policy Predcition"
   ]
  },
  {
   "cell_type": "code",
   "execution_count": 1,
   "metadata": {},
   "outputs": [
    {
     "name": "stderr",
     "output_type": "stream",
     "text": [
      "C:\\Users\\HIRAL\\Anaconda3\\lib\\site-packages\\sklearn\\cross_validation.py:41: DeprecationWarning: This module was deprecated in version 0.18 in favor of the model_selection module into which all the refactored classes and functions are moved. Also note that the interface of the new CV iterators are different from that of this module. This module will be removed in 0.20.\n",
      "  \"This module will be removed in 0.20.\", DeprecationWarning)\n"
     ]
    }
   ],
   "source": [
    "import numpy as np\n",
    "import pandas as pd\n",
    "\n",
    "from sklearn import tree\n",
    "from sklearn.tree import DecisionTreeClassifier\n",
    "from sklearn.ensemble import RandomForestClassifier\n",
    "from sklearn.cross_validation import train_test_split\n",
    "from sklearn.model_selection import train_test_split\n",
    "\n",
    "from matplotlib import pyplot as plt\n",
    "import seaborn as sns\n",
    "\n",
    "import graphviz\n",
    "import pydotplus\n",
    "import io\n",
    "\n",
    "from scipy import misc\n",
    "\n",
    "%matplotlib inline"
   ]
  },
  {
   "cell_type": "markdown",
   "metadata": {},
   "source": [
    "# Data Loading"
   ]
  },
  {
   "cell_type": "code",
   "execution_count": 2,
   "metadata": {
    "collapsed": true
   },
   "outputs": [],
   "source": [
    "data=pd.read_csv('data1.csv')"
   ]
  },
  {
   "cell_type": "code",
   "execution_count": 190,
   "metadata": {},
   "outputs": [
    {
     "data": {
      "text/html": [
       "<div>\n",
       "<style>\n",
       "    .dataframe thead tr:only-child th {\n",
       "        text-align: right;\n",
       "    }\n",
       "\n",
       "    .dataframe thead th {\n",
       "        text-align: left;\n",
       "    }\n",
       "\n",
       "    .dataframe tbody tr th {\n",
       "        vertical-align: top;\n",
       "    }\n",
       "</style>\n",
       "<table border=\"1\" class=\"dataframe\">\n",
       "  <thead>\n",
       "    <tr style=\"text-align: right;\">\n",
       "      <th></th>\n",
       "      <th>Policy1</th>\n",
       "      <th>Policy2</th>\n",
       "      <th>No_Kids</th>\n",
       "      <th>Age</th>\n",
       "      <th>Maratial_status</th>\n",
       "      <th>Gender</th>\n",
       "      <th>Income</th>\n",
       "      <th>Education</th>\n",
       "      <th>Smoking.and.alcohol</th>\n",
       "      <th>Weight</th>\n",
       "      <th>Height</th>\n",
       "      <th>Term</th>\n",
       "      <th>sumAssured</th>\n",
       "    </tr>\n",
       "  </thead>\n",
       "  <tbody>\n",
       "    <tr>\n",
       "      <th>count</th>\n",
       "      <td>3999.000000</td>\n",
       "      <td>3999.000000</td>\n",
       "      <td>3999.000000</td>\n",
       "      <td>3999.000000</td>\n",
       "      <td>3999.000000</td>\n",
       "      <td>3999.000000</td>\n",
       "      <td>3999.000000</td>\n",
       "      <td>3999.000000</td>\n",
       "      <td>3999.000000</td>\n",
       "      <td>3999.000000</td>\n",
       "      <td>3999.000000</td>\n",
       "      <td>3999.000000</td>\n",
       "      <td>3.999000e+03</td>\n",
       "    </tr>\n",
       "    <tr>\n",
       "      <th>mean</th>\n",
       "      <td>4.924231</td>\n",
       "      <td>2.702676</td>\n",
       "      <td>0.810453</td>\n",
       "      <td>31.290073</td>\n",
       "      <td>0.638410</td>\n",
       "      <td>0.496624</td>\n",
       "      <td>22.817954</td>\n",
       "      <td>1.692673</td>\n",
       "      <td>0.482871</td>\n",
       "      <td>77.788697</td>\n",
       "      <td>169.810203</td>\n",
       "      <td>24.809202</td>\n",
       "      <td>4.662456e+06</td>\n",
       "    </tr>\n",
       "    <tr>\n",
       "      <th>std</th>\n",
       "      <td>1.947667</td>\n",
       "      <td>0.635273</td>\n",
       "      <td>0.842577</td>\n",
       "      <td>14.260367</td>\n",
       "      <td>0.480521</td>\n",
       "      <td>0.500051</td>\n",
       "      <td>30.147841</td>\n",
       "      <td>0.976627</td>\n",
       "      <td>0.499769</td>\n",
       "      <td>18.908513</td>\n",
       "      <td>11.928113</td>\n",
       "      <td>9.301834</td>\n",
       "      <td>6.455826e+06</td>\n",
       "    </tr>\n",
       "    <tr>\n",
       "      <th>min</th>\n",
       "      <td>1.000000</td>\n",
       "      <td>1.000000</td>\n",
       "      <td>0.000000</td>\n",
       "      <td>5.000000</td>\n",
       "      <td>0.000000</td>\n",
       "      <td>0.000000</td>\n",
       "      <td>0.000000</td>\n",
       "      <td>0.000000</td>\n",
       "      <td>0.000000</td>\n",
       "      <td>45.000000</td>\n",
       "      <td>150.000000</td>\n",
       "      <td>10.000000</td>\n",
       "      <td>7.914500e+04</td>\n",
       "    </tr>\n",
       "    <tr>\n",
       "      <th>25%</th>\n",
       "      <td>4.000000</td>\n",
       "      <td>3.000000</td>\n",
       "      <td>0.000000</td>\n",
       "      <td>23.000000</td>\n",
       "      <td>0.000000</td>\n",
       "      <td>0.000000</td>\n",
       "      <td>1.000000</td>\n",
       "      <td>1.000000</td>\n",
       "      <td>0.000000</td>\n",
       "      <td>62.000000</td>\n",
       "      <td>159.000000</td>\n",
       "      <td>20.000000</td>\n",
       "      <td>3.000000e+05</td>\n",
       "    </tr>\n",
       "    <tr>\n",
       "      <th>50%</th>\n",
       "      <td>5.000000</td>\n",
       "      <td>3.000000</td>\n",
       "      <td>1.000000</td>\n",
       "      <td>27.000000</td>\n",
       "      <td>1.000000</td>\n",
       "      <td>0.000000</td>\n",
       "      <td>6.000000</td>\n",
       "      <td>2.000000</td>\n",
       "      <td>0.000000</td>\n",
       "      <td>78.000000</td>\n",
       "      <td>170.000000</td>\n",
       "      <td>23.000000</td>\n",
       "      <td>1.340821e+06</td>\n",
       "    </tr>\n",
       "    <tr>\n",
       "      <th>75%</th>\n",
       "      <td>7.000000</td>\n",
       "      <td>3.000000</td>\n",
       "      <td>2.000000</td>\n",
       "      <td>39.000000</td>\n",
       "      <td>1.000000</td>\n",
       "      <td>1.000000</td>\n",
       "      <td>41.000000</td>\n",
       "      <td>2.000000</td>\n",
       "      <td>1.000000</td>\n",
       "      <td>94.000000</td>\n",
       "      <td>180.000000</td>\n",
       "      <td>27.000000</td>\n",
       "      <td>7.500000e+06</td>\n",
       "    </tr>\n",
       "    <tr>\n",
       "      <th>max</th>\n",
       "      <td>8.000000</td>\n",
       "      <td>3.000000</td>\n",
       "      <td>2.000000</td>\n",
       "      <td>70.000000</td>\n",
       "      <td>1.000000</td>\n",
       "      <td>1.000000</td>\n",
       "      <td>100.000000</td>\n",
       "      <td>3.000000</td>\n",
       "      <td>1.000000</td>\n",
       "      <td>110.000000</td>\n",
       "      <td>190.000000</td>\n",
       "      <td>70.000000</td>\n",
       "      <td>5.420000e+07</td>\n",
       "    </tr>\n",
       "  </tbody>\n",
       "</table>\n",
       "</div>"
      ],
      "text/plain": [
       "           Policy1      Policy2      No_Kids          Age  Maratial_status  \\\n",
       "count  3999.000000  3999.000000  3999.000000  3999.000000      3999.000000   \n",
       "mean      4.924231     2.702676     0.810453    31.290073         0.638410   \n",
       "std       1.947667     0.635273     0.842577    14.260367         0.480521   \n",
       "min       1.000000     1.000000     0.000000     5.000000         0.000000   \n",
       "25%       4.000000     3.000000     0.000000    23.000000         0.000000   \n",
       "50%       5.000000     3.000000     1.000000    27.000000         1.000000   \n",
       "75%       7.000000     3.000000     2.000000    39.000000         1.000000   \n",
       "max       8.000000     3.000000     2.000000    70.000000         1.000000   \n",
       "\n",
       "            Gender       Income    Education  Smoking.and.alcohol  \\\n",
       "count  3999.000000  3999.000000  3999.000000          3999.000000   \n",
       "mean      0.496624    22.817954     1.692673             0.482871   \n",
       "std       0.500051    30.147841     0.976627             0.499769   \n",
       "min       0.000000     0.000000     0.000000             0.000000   \n",
       "25%       0.000000     1.000000     1.000000             0.000000   \n",
       "50%       0.000000     6.000000     2.000000             0.000000   \n",
       "75%       1.000000    41.000000     2.000000             1.000000   \n",
       "max       1.000000   100.000000     3.000000             1.000000   \n",
       "\n",
       "            Weight       Height         Term    sumAssured  \n",
       "count  3999.000000  3999.000000  3999.000000  3.999000e+03  \n",
       "mean     77.788697   169.810203    24.809202  4.662456e+06  \n",
       "std      18.908513    11.928113     9.301834  6.455826e+06  \n",
       "min      45.000000   150.000000    10.000000  7.914500e+04  \n",
       "25%      62.000000   159.000000    20.000000  3.000000e+05  \n",
       "50%      78.000000   170.000000    23.000000  1.340821e+06  \n",
       "75%      94.000000   180.000000    27.000000  7.500000e+06  \n",
       "max     110.000000   190.000000    70.000000  5.420000e+07  "
      ]
     },
     "execution_count": 190,
     "metadata": {},
     "output_type": "execute_result"
    }
   ],
   "source": [
    "data.describe()\n"
   ]
  },
  {
   "cell_type": "markdown",
   "metadata": {},
   "source": [
    "# Splitting Data"
   ]
  },
  {
   "cell_type": "code",
   "execution_count": 4,
   "metadata": {
    "collapsed": true
   },
   "outputs": [],
   "source": [
    "train,test=train_test_split(data,test_size=0.2)"
   ]
  },
  {
   "cell_type": "code",
   "execution_count": 5,
   "metadata": {},
   "outputs": [
    {
     "name": "stdout",
     "output_type": "stream",
     "text": [
      "Training size: 3199 Test Size:800\n"
     ]
    }
   ],
   "source": [
    "print(\"Training size: {} Test Size:{}\".format(len(train),len(test)))"
   ]
  },
  {
   "cell_type": "code",
   "execution_count": 6,
   "metadata": {},
   "outputs": [
    {
     "data": {
      "text/plain": [
       "(3199, 14)"
      ]
     },
     "execution_count": 6,
     "metadata": {},
     "output_type": "execute_result"
    }
   ],
   "source": [
    "train.shape"
   ]
  },
  {
   "cell_type": "markdown",
   "metadata": {},
   "source": [
    "# Decision Tree Implementation"
   ]
  },
  {
   "cell_type": "code",
   "execution_count": 169,
   "metadata": {},
   "outputs": [
    {
     "data": {
      "text/plain": [
       "DecisionTreeClassifier(class_weight=None, criterion='gini', max_depth=None,\n",
       "            max_features=None, max_leaf_nodes=None,\n",
       "            min_impurity_decrease=0.0, min_impurity_split=None,\n",
       "            min_samples_leaf=1, min_samples_split=200,\n",
       "            min_weight_fraction_leaf=0.0, presort=False, random_state=None,\n",
       "            splitter='best')"
      ]
     },
     "execution_count": 169,
     "metadata": {},
     "output_type": "execute_result"
    }
   ],
   "source": [
    "c=DecisionTreeClassifier(min_samples_split=200)\n",
    "c"
   ]
  },
  {
   "cell_type": "code",
   "execution_count": 8,
   "metadata": {
    "collapsed": true
   },
   "outputs": [],
   "source": [
    "features=[\"No_Kids\",\"Age\",\"Maratial_status\",\"Gender\",\"Income\",\"Education\",\"Smoking.and.alcohol\",\"Weight\",\"Height\",\"Term\",\"sumAssured\"]"
   ]
  },
  {
   "cell_type": "code",
   "execution_count": 9,
   "metadata": {
    "collapsed": true
   },
   "outputs": [],
   "source": [
    "X_train=train[features]\n",
    "Y_train=train[\"Policy1\"]"
   ]
  },
  {
   "cell_type": "code",
   "execution_count": 10,
   "metadata": {
    "collapsed": true
   },
   "outputs": [],
   "source": [
    "X_test=test[features]\n",
    "Y_test=test[\"Policy1\"]"
   ]
  },
  {
   "cell_type": "code",
   "execution_count": 11,
   "metadata": {},
   "outputs": [
    {
     "data": {
      "text/plain": [
       "2712    6\n",
       "3008    7\n",
       "2610    5\n",
       "3905    8\n",
       "2475    5\n",
       "3172    7\n",
       "2997    7\n",
       "3904    8\n",
       "1649    5\n",
       "2422    5\n",
       "1444    5\n",
       "855     3\n",
       "2115    5\n",
       "2692    6\n",
       "1729    5\n",
       "1260    4\n",
       "439     2\n",
       "1907    5\n",
       "1805    5\n",
       "1306    5\n",
       "2420    5\n",
       "69      1\n",
       "114     1\n",
       "1478    5\n",
       "3198    7\n",
       "756     3\n",
       "3470    7\n",
       "2817    7\n",
       "62      1\n",
       "1193    4\n",
       "       ..\n",
       "3246    7\n",
       "3708    7\n",
       "814     3\n",
       "2873    7\n",
       "502     2\n",
       "887     4\n",
       "701     3\n",
       "2687    6\n",
       "125     1\n",
       "2890    7\n",
       "2144    5\n",
       "1511    5\n",
       "2234    5\n",
       "454     2\n",
       "3577    7\n",
       "3666    7\n",
       "2128    5\n",
       "3334    7\n",
       "2484    5\n",
       "1239    4\n",
       "3002    7\n",
       "1966    5\n",
       "92      1\n",
       "371     2\n",
       "282     1\n",
       "833     3\n",
       "3468    7\n",
       "893     4\n",
       "2681    6\n",
       "2131    5\n",
       "Name: Policy1, Length: 800, dtype: int64"
      ]
     },
     "execution_count": 11,
     "metadata": {},
     "output_type": "execute_result"
    }
   ],
   "source": [
    "Y_test"
   ]
  },
  {
   "cell_type": "markdown",
   "metadata": {},
   "source": [
    "X_test.to_csv('xtest.csv')\n",
    "Y_test.to_csv('ytest.csv')\n",
    "X_train.to_csv('xtrain.csv')\n",
    "Y_train.to_csv('ytrain.csv')"
   ]
  },
  {
   "cell_type": "code",
   "execution_count": 43,
   "metadata": {
    "collapsed": true
   },
   "outputs": [],
   "source": [
    "dt1=c.fit(X_train,Y_train)"
   ]
  },
  {
   "cell_type": "code",
   "execution_count": 13,
   "metadata": {
    "scrolled": true
   },
   "outputs": [
    {
     "data": {
      "text/plain": [
       "array([6, 7, 5, 8, 5, 7, 7, 8, 5, 5, 5, 3, 5, 6, 5, 4, 2, 5, 5, 5, 5, 1,\n",
       "       1, 5, 7, 3, 7, 7, 1, 4, 4, 1, 8, 4, 5, 7, 3, 1, 1, 7, 5, 7, 7, 1,\n",
       "       4, 7, 3, 8, 5, 1, 5, 5, 7, 5, 5, 7, 5, 3, 7, 6, 5, 5, 5, 7, 5, 4,\n",
       "       5, 4, 5, 5, 5, 7, 8, 5, 5, 7, 5, 4, 1, 1, 5, 1, 2, 6, 5, 4, 7, 7,\n",
       "       4, 7, 5, 7, 7, 5, 8, 7, 5, 4, 2, 5, 5, 7, 8, 5, 2, 3, 5, 5, 5, 5,\n",
       "       5, 7, 7, 7, 7, 4, 6, 7, 2, 7, 3, 7, 7, 3, 5, 3, 4, 7, 2, 1, 8, 8,\n",
       "       2, 8, 5, 5, 5, 7, 5, 5, 7, 7, 5, 7, 7, 6, 5, 5, 5, 7, 7, 7, 4, 5,\n",
       "       7, 3, 4, 4, 7, 5, 7, 3, 2, 7, 1, 7, 7, 5, 3, 7, 1, 7, 7, 5, 7, 5,\n",
       "       7, 5, 4, 7, 8, 8, 7, 2, 7, 5, 4, 4, 5, 5, 7, 7, 4, 7, 5, 3, 7, 5,\n",
       "       5, 5, 3, 5, 5, 5, 5, 2, 5, 5, 4, 5, 4, 7, 2, 7, 7, 8, 5, 5, 3, 6,\n",
       "       3, 5, 7, 5, 8, 1, 7, 7, 8, 7, 5, 4, 5, 5, 4, 5, 7, 5, 4, 5, 4, 7,\n",
       "       5, 7, 2, 5, 8, 7, 7, 8, 5, 2, 5, 5, 2, 5, 3, 5, 7, 8, 5, 8, 6, 4,\n",
       "       7, 4, 7, 5, 2, 8, 5, 2, 5, 7, 7, 5, 4, 5, 5, 7, 5, 1, 7, 2, 7, 3,\n",
       "       7, 5, 5, 5, 5, 4, 3, 5, 7, 5, 5, 5, 7, 7, 4, 3, 5, 5, 6, 5, 5, 6,\n",
       "       5, 5, 5, 1, 8, 5, 5, 2, 7, 7, 5, 8, 4, 5, 5, 7, 3, 1, 7, 1, 5, 2,\n",
       "       7, 5, 7, 8, 5, 5, 5, 8, 7, 3, 5, 5, 5, 3, 3, 5, 7, 8, 2, 1, 5, 5,\n",
       "       5, 5, 1, 7, 7, 5, 5, 7, 4, 5, 7, 5, 7, 7, 5, 5, 7, 5, 3, 4, 5, 5,\n",
       "       3, 5, 5, 8, 1, 8, 5, 1, 5, 5, 5, 8, 8, 5, 2, 2, 3, 1, 5, 4, 5, 5,\n",
       "       1, 2, 5, 5, 4, 3, 4, 7, 8, 1, 5, 4, 2, 6, 6, 4, 7, 8, 5, 7, 2, 2,\n",
       "       5, 5, 5, 3, 7, 7, 7, 5, 7, 7, 2, 5, 4, 3, 5, 5, 3, 7, 4, 7, 3, 8,\n",
       "       7, 7, 4, 5, 1, 7, 4, 6, 4, 4, 7, 2, 5, 5, 3, 7, 1, 3, 1, 2, 7, 4,\n",
       "       5, 5, 5, 4, 5, 1, 7, 7, 7, 5, 1, 7, 3, 5, 7, 5, 5, 8, 4, 8, 7, 5,\n",
       "       5, 5, 5, 5, 5, 3, 5, 8, 8, 6, 5, 5, 3, 7, 7, 7, 7, 5, 5, 3, 4, 1,\n",
       "       5, 7, 7, 1, 3, 7, 5, 7, 5, 7, 4, 2, 5, 7, 5, 3, 1, 1, 4, 7, 3, 5,\n",
       "       5, 5, 1, 5, 7, 7, 8, 5, 4, 7, 6, 7, 3, 7, 5, 5, 1, 5, 6, 5, 5, 1,\n",
       "       2, 5, 5, 7, 8, 5, 7, 6, 5, 5, 7, 7, 3, 4, 5, 8, 5, 5, 5, 7, 5, 4,\n",
       "       1, 5, 7, 5, 5, 8, 7, 7, 1, 5, 8, 5, 8, 6, 1, 5, 7, 7, 3, 4, 7, 7,\n",
       "       5, 4, 5, 5, 5, 6, 7, 4, 4, 5, 5, 7, 4, 5, 5, 5, 5, 3, 7, 4, 7, 2,\n",
       "       7, 7, 1, 5, 3, 6, 1, 6, 6, 1, 5, 1, 4, 5, 5, 3, 7, 7, 5, 3, 5, 5,\n",
       "       6, 3, 2, 7, 5, 5, 7, 3, 5, 5, 5, 5, 4, 7, 5, 1, 4, 5, 2, 7, 7, 2,\n",
       "       4, 7, 5, 5, 7, 7, 5, 5, 5, 5, 7, 7, 1, 3, 7, 5, 8, 4, 5, 5, 4, 8,\n",
       "       5, 7, 1, 5, 5, 5, 1, 4, 1, 7, 7, 7, 7, 7, 4, 5, 5, 7, 4, 5, 6, 5,\n",
       "       7, 5, 3, 7, 3, 1, 5, 5, 7, 4, 5, 2, 5, 7, 5, 5, 5, 5, 2, 5, 7, 7,\n",
       "       1, 4, 4, 7, 4, 6, 8, 5, 5, 6, 5, 5, 5, 7, 2, 7, 7, 8, 5, 4, 7, 5,\n",
       "       7, 4, 7, 3, 1, 3, 5, 5, 5, 8, 8, 4, 7, 5, 4, 5, 5, 5, 7, 5, 4, 4,\n",
       "       2, 7, 3, 7, 2, 4, 3, 6, 1, 7, 5, 7, 5, 2, 7, 7, 5, 7, 5, 4, 7, 7,\n",
       "       1, 5, 1, 3, 7, 4, 6, 5], dtype=int64)"
      ]
     },
     "execution_count": 13,
     "metadata": {},
     "output_type": "execute_result"
    }
   ],
   "source": [
    "Y_pred=c.predict(X_test)\n",
    "\n",
    "Y_pred"
   ]
  },
  {
   "cell_type": "code",
   "execution_count": 44,
   "metadata": {
    "collapsed": true
   },
   "outputs": [],
   "source": [
    "from sklearn.metrics import accuracy_score\n",
    "score=accuracy_score(Y_test,Y_pred)*100\n"
   ]
  },
  {
   "cell_type": "code",
   "execution_count": 45,
   "metadata": {},
   "outputs": [
    {
     "name": "stdout",
     "output_type": "stream",
     "text": [
      "Accuracy using Decision Tree: 89.0 %\n"
     ]
    }
   ],
   "source": [
    "print(\"Accuracy using Decision Tree:\",score,\"%\")"
   ]
  },
  {
   "cell_type": "code",
   "execution_count": 291,
   "metadata": {},
   "outputs": [
    {
     "data": {
      "image/png": "[encoded data removed]",
      "text/plain": [
       "<matplotlib.figure.Figure at 0x2d6a06a4128>"
      ]
     },
     "metadata": {},
     "output_type": "display_data"
    }
   ],
   "source": [
    "from mlxtend.evaluate import confusion_matrix\n",
    "from mlxtend.plotting import plot_confusion_matrix\n",
    "\n",
    "\n",
    "cm = confusion_matrix(y_target=Y_test, \n",
    "                      y_predicted=Y_pred, \n",
    "                      binary=False)\n",
    "import matplotlib.pyplot as plt\n",
    "from mlxtend.evaluate import confusion_matrix\n",
    "\n",
    "fig, ax = plot_confusion_matrix(conf_mat=cm)\n",
    "plt.show()\n"
   ]
  },
  {
   "cell_type": "code",
   "execution_count": 16,
   "metadata": {
    "collapsed": true
   },
   "outputs": [],
   "source": [
    "import sklearn\n",
    "def show_tree(tree,features,path):\n",
    "    f=io.StringIO()\n",
    "    sklearn.tree.export_graphviz(tree,out_file=f,feature_names=features)\n",
    "    pydotplus.graph_from_dot_data(f.getvalue()).write_png(path)\n",
    "    img=misc.imread(path)\n",
    "    plt.rcParams[\"figure.figsize\"]=(20,20)\n",
    "    plt.imshow(img)"
   ]
  },
  {
   "cell_type": "code",
   "execution_count": 17,
   "metadata": {},
   "outputs": [
    {
     "data": {
      "image/png": "[encoded data removed]",
      "text/plain": [
       "<matplotlib.figure.Figure at 0x2d69a273b70>"
      ]
     },
     "metadata": {},
     "output_type": "display_data"
    }
   ],
   "source": [
    "show_tree(dt,features,'dec_tree_01.png')"
   ]
  },
  {
   "cell_type": "markdown",
   "metadata": {},
   "source": [
    "# Representing the Model as a Function"
   ]
  },
  {
   "cell_type": "code",
   "execution_count": 188,
   "metadata": {},
   "outputs": [],
   "source": [
    "def tree_to_code(tree, feature_names):\n",
    "\n",
    "\n",
    "\n",
    "    tree_ = tree.tree_\n",
    "    feature_name = [\n",
    "        feature_names[i] if i != _tree.TREE_UNDEFINED else \"undefined!\"\n",
    "        for i in tree_.feature\n",
    "    ]\n",
    "    print(\"def tree({}):\".format(\", \".join(feature_names)))\n",
    "\n",
    "    def recurse(node, depth):\n",
    "    indent = \"  \" * depth\n",
    "        if tree_.feature[node] != _tree.TREE_UNDEFINED:\n",
    "            name = feature_name[node]\n",
    "            threshold = tree_.threshold[node]\n",
    "            print(\"{}if {} <= {}:\".format(indent, name, threshold))\n",
    "            recurse(tree_.children_left[node], depth + 1)\n",
    "            print(\"{}else:  # if {} > {}\".format(indent, name, threshold))\n",
    "            recurse(tree_.children_right[node], depth + 1)\n",
    "        else:\n",
    "            print(\"{}return {}\".format(indent, tree_.value[node]))\n",
    "\n",
    "    recurse(0, 1)"
   ]
  },
  {
   "cell_type": "code",
   "execution_count": 189,
   "metadata": {},
   "outputs": [
    {
     "name": "stdout",
     "output_type": "stream",
     "text": [
      "def tree(No_Kids, Age, Maratial_status, Gender, Income, Education, Smoking.and.alcohol, Weight, Height, Term, sumAssured):\n",
      "  if Age <= 26.5:\n",
      "    if Age <= 20.5:\n",
      "      if Age <= 12.5:\n",
      "        return [[248.   0.   0.   0.   0.   0.   0.   0.]\n",
      " [  0.   0. 248.   0.   0.   0.   0.   0.]]\n",
      "      else:  # if Age > 12.5\n",
      "        if Term <= 51.5:\n",
      "          if sumAssured <= 27900000.0:\n",
      "            if sumAssured <= 24850000.0:\n",
      "              if Height <= 150.5:\n",
      "                return [[0. 0. 0. 7. 0. 0. 0. 0.]\n",
      " [3. 1. 3. 0. 0. 0. 0. 0.]]\n",
      "              else:  # if Height > 150.5\n",
      "                if sumAssured <= 1950000.0:\n",
      "                  return [[  0.   0.   0. 150.   0.   0.   0.   0.]\n",
      " [ 19.  19. 112.   0.   0.   0.   0.   0.]]\n",
      "                else:  # if sumAssured > 1950000.0\n",
      "                  return [[ 0.  0.  0. 51.  0.  0.  0.  0.]\n",
      " [ 8.  0. 43.  0.  0.  0.  0.  0.]]\n",
      "            else:  # if sumAssured > 24850000.0\n",
      "              return [[0. 0. 0. 3. 0. 0. 0. 0.]\n",
      " [2. 0. 1. 0. 0. 0. 0. 0.]]\n",
      "          else:  # if sumAssured > 27900000.0\n",
      "            return [[0. 0. 0. 2. 0. 0. 0. 0.]\n",
      " [0. 2. 0. 0. 0. 0. 0. 0.]]\n",
      "        else:  # if Term > 51.5\n",
      "          return [[  0.   0.   0. 107.   0.   0.   0.   0.]\n",
      " [ 12.  24.  71.   0.   0.   0.   0.   0.]]\n",
      "    else:  # if Age > 20.5\n",
      "      if Term <= 25.5:\n",
      "        if Term <= 19.5:\n",
      "          if Height <= 150.5:\n",
      "            return [[0. 0. 0. 0. 0. 0. 5. 0.]\n",
      " [1. 2. 2. 0. 0. 0. 0. 0.]]\n",
      "          else:  # if Height > 150.5\n",
      "            if sumAssured <= 1050000.0:\n",
      "              return [[  0.   0.   0.   0.   0.   0. 106.   0.]\n",
      " [  3.  11.  92.   0.   0.   0.   0.   0.]]\n",
      "            else:  # if sumAssured > 1050000.0\n",
      "              return [[  0.   0.   0.   0.   0.   0. 114.   0.]\n",
      " [ 15.  11.  88.   0.   0.   0.   0.   0.]]\n",
      "        else:  # if Term > 19.5\n",
      "          if Height <= 174.5:\n",
      "            return [[  0.   0.   0.   0.  74.   0. 123.   0.]\n",
      " [ 20.  17. 160.   0.   0.   0.   0.   0.]]\n",
      "          else:  # if Height > 174.5\n",
      "            return [[ 0.  0.  0.  0. 62.  0. 61.  0.]\n",
      " [14. 13. 96.  0.  0.  0.  0.  0.]]\n",
      "      else:  # if Term > 25.5\n",
      "        if Term <= 27.5:\n",
      "          return [[ 0.  0.  0.  0.  0.  0. 59.  0.]\n",
      " [ 5.  2. 52.  0.  0.  0.  0.  0.]]\n",
      "        else:  # if Term > 27.5\n",
      "          if Height <= 150.5:\n",
      "            return [[0. 0. 0. 0. 0. 0. 5. 0.]\n",
      " [2. 1. 2. 0. 0. 0. 0. 0.]]\n",
      "          else:  # if Height > 150.5\n",
      "            if sumAssured <= 1450000.0:\n",
      "              return [[ 0.  0.  0.  0.  0.  0. 94.  0.]\n",
      " [16. 12. 66.  0.  0.  0.  0.  0.]]\n",
      "            else:  # if sumAssured > 1450000.0\n",
      "              return [[  0.   0.   0.   0.   0.   0. 125.   0.]\n",
      " [ 14.  10. 101.   0.   0.   0.   0.   0.]]\n",
      "  else:  # if Age > 26.5\n",
      "    if Age <= 39.5:\n",
      "      if Maratial_status <= 0.5:\n",
      "        if Term <= 15.5:\n",
      "          return [[ 0.  0.  0.  0.  0.  0.  0. 46.]\n",
      " [ 9.  5. 32.  0.  0.  0.  0.  0.]]\n",
      "        else:  # if Term > 15.5\n",
      "          return [[  0.  46.   0.   0.   0.   0.   0. 113.]\n",
      " [ 15.   9. 135.   0.   0.   0.   0.   0.]]\n",
      "      else:  # if Maratial_status > 0.5\n",
      "        if Income <= 81.5:\n",
      "          if Height <= 181.5:\n",
      "            if sumAssured <= 15300000.0:\n",
      "              if Term <= 23.5:\n",
      "                if Weight <= 51.5:\n",
      "                  return [[ 0.  0.  0.  0. 44.  0.  0.  0.]\n",
      " [ 9.  8. 27.  0.  0.  0.  0.  0.]]\n",
      "                else:  # if Weight > 51.5\n",
      "                  if Weight <= 107.5:\n",
      "                    if Height <= 161.5:\n",
      "                      return [[  0.   0.   0.   0. 114.   0.   0.   0.]\n",
      " [ 20.  11.  83.   0.   0.   0.   0.   0.]]\n",
      "                    else:  # if Height > 161.5\n",
      "                      return [[  0.   0.   0.   0. 194.   0.   0.   0.]\n",
      " [ 18.  15. 161.   0.   0.   0.   0.   0.]]\n",
      "                  else:  # if Weight > 107.5\n",
      "                    return [[ 0.  0.  0.  0. 13.  0.  0.  0.]\n",
      " [ 5.  1.  7.  0.  0.  0.  0.  0.]]\n",
      "              else:  # if Term > 23.5\n",
      "                if Income <= 4.5:\n",
      "                  return [[ 0.  0.  0.  0. 78.  0.  0.  0.]\n",
      " [ 9. 10. 59.  0.  0.  0.  0.  0.]]\n",
      "                else:  # if Income > 4.5\n",
      "                  return [[  0.   0.   0.   0. 127.   0.   0.   0.]\n",
      " [  5.   9. 113.   0.   0.   0.   0.   0.]]\n",
      "            else:  # if sumAssured > 15300000.0\n",
      "              return [[0. 0. 0. 0. 9. 0. 0. 0.]\n",
      " [4. 1. 4. 0. 0. 0. 0. 0.]]\n",
      "          else:  # if Height > 181.5\n",
      "            return [[  0.   0.   0.   0. 147.   0.   0.   0.]\n",
      " [ 27.  21.  99.   0.   0.   0.   0.   0.]]\n",
      "        else:  # if Income > 81.5\n",
      "          return [[ 0.  0.  0.  0. 84.  0.  0.  0.]\n",
      " [ 5.  4. 75.  0.  0.  0.  0.  0.]]\n",
      "    else:  # if Age > 39.5\n",
      "      if Age <= 59.5:\n",
      "        if Income <= 49.5:\n",
      "          if Age <= 54.5:\n",
      "            if Term <= 25.5:\n",
      "              if Term <= 19.5:\n",
      "                return [[ 0. 32.  0.  0.  0.  0. 40.  0.]\n",
      " [ 5. 12. 55.  0.  0.  0.  0.  0.]]\n",
      "              else:  # if Term > 19.5\n",
      "                if Age <= 49.5:\n",
      "                  return [[  0.  32.   0.   0. 106.   0.  37.   0.]\n",
      " [ 12.  22. 141.   0.   0.   0.   0.   0.]]\n",
      "                else:  # if Age > 49.5\n",
      "                  return [[ 0. 13.  0.  0. 15.  0. 12.  0.]\n",
      " [ 7.  5. 28.  0.  0.  0.  0.  0.]]\n",
      "            else:  # if Term > 25.5\n",
      "              return [[ 0. 64.  0.  0.  0.  0. 42.  0.]\n",
      " [11.  5. 90.  0.  0.  0.  0.  0.]]\n",
      "          else:  # if Age > 54.5\n",
      "            return [[ 0. 60.  0.  0.  0.  0.  0.  0.]\n",
      " [ 1.  6. 53.  0.  0.  0.  0.  0.]]\n",
      "        else:  # if Income > 49.5\n",
      "          return [[  0.   4.   0.   0.   4. 121.   2.   0.]\n",
      " [ 17.  17.  97.   0.   0.   0.   0.   0.]]\n",
      "      else:  # if Age > 59.5\n",
      "        if Income <= 83.5:\n",
      "          return [[  0.   0. 185.   0.   0.   0.   0.   0.]\n",
      " [ 11.  31. 143.   0.   0.   0.   0.   0.]]\n",
      "        else:  # if Income > 83.5\n",
      "          return [[ 0.  0. 19.  0.  0.  0.  0.  0.]\n",
      " [ 0.  8. 11.  0.  0.  0.  0.  0.]]\n"
     ]
    }
   ],
   "source": [
    " tree_to_code(dt1, list(features))"
   ]
  },
  {
   "cell_type": "markdown",
   "metadata": {},
   "source": [
    "# Random Forest Hyperparameter tuning"
   ]
  },
  {
   "cell_type": "code",
   "execution_count": 197,
   "metadata": {
    "collapsed": true
   },
   "outputs": [],
   "source": [
    "grid_times = {}\n",
    "clf = RandomForestClassifier(random_state = 84)\n",
    "\n",
    "#features = X_train.columns.drop(['Name', 'PassengerId'], 1)\n",
    "\n",
    "# I commented this out after running once locally since this block of code takes a long time to run\n",
    "'''\n",
    "for number in np.arange(2, 600, 50):\n",
    "    \n",
    "    param = np.arange(1,number,10)\n",
    "    param_grid = {\"n_estimators\": param,\n",
    "                  \"criterion\": [\"gini\", \"entropy\"]}\n",
    "    \n",
    "    grid_search = GridSearchCV(clf, param_grid = param_grid)\n",
    "    \n",
    "    t0 = time()\n",
    "    grid_search.fit(X_train[features], y_train)\n",
    "    compute_time = time() - t0\n",
    "    grid_times[len(grid_search.grid_scores_)] = time() - t0\n",
    "    \n",
    "grid_times = pd.DataFrame.from_dict(grid_times, orient = 'index')\n",
    "'''\n",
    "\n",
    "# hard-coded values were found by running code above\n",
    "grid_times = {0: { 2: 0.034411907196044922,\n",
    "                  12: 1.5366179943084717,\n",
    "                  22: 5.0431020259857178,\n",
    "                  32: 11.378448963165283,\n",
    "                  42: 20.211128950119019,\n",
    "                  52: 30.040457010269165,\n",
    "                  62: 39.442277908325195,\n",
    "                  72: 56.834053993225098,\n",
    "                  82: 67.847633838653564,\n",
    "                  92: 91.005517959594727,\n",
    "                  102: 111.2420859336853,\n",
    "                  112: 135.75759792327881}}"
   ]
  },
  {
   "cell_type": "code",
   "execution_count": 198,
   "metadata": {},
   "outputs": [
    {
     "data": {
      "text/plain": [
       "<matplotlib.text.Text at 0x2d69c3feba8>"
      ]
     },
     "execution_count": 198,
     "metadata": {},
     "output_type": "execute_result"
    },
    {
     "data": {
      "image/png": "[encoded data removed]",
      "text/plain": [
       "<matplotlib.figure.Figure at 0x2d6a1517c88>"
      ]
     },
     "metadata": {},
     "output_type": "display_data"
    }
   ],
   "source": [
    "final = pd.DataFrame.from_dict(grid_times)\n",
    "final = final.sort_index()\n",
    "plt.plot(final.index.values, final[0])\n",
    "plt.xlabel('Number of Parameter Permutations')\n",
    "plt.ylabel('Time (sec)')\n",
    "plt.title('Time vs. Number of Parameter Permutations of GridSearchCV')"
   ]
  },
  {
   "cell_type": "code",
   "execution_count": 199,
   "metadata": {
    "collapsed": true
   },
   "outputs": [],
   "source": [
    "# function takes a RF parameter and a ranger and produces a plot and dataframe of CV scores for parameter values\n",
    "def evaluate_param(parameter, num_range, index):\n",
    "    grid_search = GridSearchCV(clf, param_grid = {parameter: num_range})\n",
    "    grid_search.fit(X_train[features], y_train)\n",
    "    \n",
    "    df = {}\n",
    "    for i, score in enumerate(grid_search.grid_scores_):\n",
    "        df[score[0][parameter]] = score[1]\n",
    "       \n",
    "    \n",
    "    df = pd.DataFrame.from_dict(df, orient='index')\n",
    "    df.reset_index(level=0, inplace=True)\n",
    "    df = df.sort_values(by='index')\n",
    " \n",
    "    plt.subplot(3,2,index)\n",
    "    plot = plt.plot(df['index'], df[0])\n",
    "    plt.title(parameter)\n",
    "    return plot, df"
   ]
  },
  {
   "cell_type": "code",
   "execution_count": 282,
   "metadata": {
    "collapsed": true
   },
   "outputs": [],
   "source": [
    "param_grid = {\"n_estimators\": np.arange(2, 100, 2),\n",
    "              \"max_depth\": np.arange(1, 28, 1),\n",
    "              }"
   ]
  },
  {
   "cell_type": "code",
   "execution_count": 283,
   "metadata": {},
   "outputs": [
    {
     "data": {
      "image/png": "[encoded data removed]",
      "text/plain": [
       "<matplotlib.figure.Figure at 0x2d6a1fbe780>"
      ]
     },
     "metadata": {},
     "output_type": "display_data"
    }
   ],
   "source": [
    "y_train=Y_train\n",
    "from sklearn.grid_search import GridSearchCV\n",
    "index = 1\n",
    "plt.figure(figsize=(16,12))\n",
    "for parameter, param_range in dict.items(param_grid):   \n",
    "    evaluate_param(parameter, param_range, index)\n",
    "    index += 1"
   ]
  },
  {
   "cell_type": "markdown",
   "metadata": {},
   "source": [
    "# Random Forest Implementation"
   ]
  },
  {
   "cell_type": "code",
   "execution_count": 230,
   "metadata": {},
   "outputs": [
    {
     "data": {
      "text/plain": [
       "RandomForestClassifier(bootstrap=True, class_weight=None, criterion='gini',\n",
       "            max_depth=None, max_features='auto', max_leaf_nodes=None,\n",
       "            min_impurity_decrease=0.0, min_impurity_split=None,\n",
       "            min_samples_leaf=1, min_samples_split=2,\n",
       "            min_weight_fraction_leaf=0.0, n_estimators=950, n_jobs=1,\n",
       "            oob_score=False, random_state=None, verbose=0,\n",
       "            warm_start=False)"
      ]
     },
     "execution_count": 230,
     "metadata": {},
     "output_type": "execute_result"
    }
   ],
   "source": [
    "rf= RandomForestClassifier(n_estimators=950)\n",
    "rf.fit(X_train,Y_train)"
   ]
  },
  {
   "cell_type": "code",
   "execution_count": 231,
   "metadata": {
    "collapsed": true
   },
   "outputs": [],
   "source": [
    "Y_pred1=rf.predict(X_test)"
   ]
  },
  {
   "cell_type": "code",
   "execution_count": 232,
   "metadata": {},
   "outputs": [
    {
     "data": {
      "text/plain": [
       "array([6, 7, 5, 8, 5, 7, 7, 8, 5, 5, 5, 3, 5, 6, 5, 4, 2, 5, 5, 5, 5, 1,\n",
       "       1, 5, 7, 3, 7, 7, 1, 4, 4, 1, 8, 4, 5, 7, 3, 1, 1, 7, 5, 7, 7, 1,\n",
       "       4, 7, 3, 8, 5, 1, 5, 5, 7, 5, 5, 7, 5, 3, 7, 6, 5, 5, 5, 7, 5, 4,\n",
       "       5, 4, 5, 5, 5, 7, 8, 7, 5, 7, 5, 4, 1, 1, 5, 1, 2, 7, 5, 4, 7, 7,\n",
       "       4, 7, 5, 7, 7, 5, 8, 2, 5, 4, 2, 5, 5, 7, 8, 5, 2, 3, 7, 5, 5, 5,\n",
       "       5, 7, 7, 7, 7, 4, 6, 7, 2, 7, 3, 5, 7, 3, 5, 3, 4, 7, 2, 1, 8, 8,\n",
       "       2, 8, 5, 5, 5, 7, 5, 5, 7, 7, 5, 7, 7, 6, 5, 7, 5, 7, 7, 7, 4, 5,\n",
       "       7, 3, 4, 4, 7, 5, 7, 3, 7, 7, 1, 7, 7, 5, 3, 7, 1, 7, 7, 5, 7, 5,\n",
       "       7, 5, 4, 7, 8, 8, 7, 2, 7, 5, 4, 4, 5, 5, 7, 7, 4, 2, 5, 3, 7, 7,\n",
       "       5, 5, 3, 5, 5, 5, 5, 2, 5, 5, 4, 5, 4, 7, 2, 7, 7, 8, 5, 5, 3, 6,\n",
       "       3, 5, 7, 5, 8, 1, 7, 7, 2, 7, 5, 4, 5, 5, 4, 5, 7, 5, 4, 5, 4, 7,\n",
       "       5, 7, 2, 5, 8, 7, 7, 8, 5, 2, 5, 5, 2, 5, 3, 5, 7, 8, 5, 8, 6, 4,\n",
       "       7, 4, 7, 5, 7, 8, 5, 2, 5, 7, 7, 5, 4, 7, 5, 7, 5, 1, 2, 2, 7, 3,\n",
       "       7, 5, 7, 5, 5, 4, 3, 5, 7, 5, 5, 7, 7, 7, 4, 3, 5, 5, 6, 5, 5, 6,\n",
       "       5, 7, 5, 1, 8, 5, 5, 2, 7, 7, 5, 8, 4, 5, 7, 7, 3, 1, 7, 1, 5, 2,\n",
       "       7, 5, 7, 8, 5, 5, 5, 8, 7, 3, 5, 5, 5, 3, 3, 5, 7, 8, 2, 1, 5, 5,\n",
       "       5, 5, 1, 7, 7, 5, 5, 7, 4, 7, 7, 5, 7, 7, 5, 5, 7, 5, 3, 4, 7, 5,\n",
       "       3, 5, 5, 8, 1, 8, 5, 1, 7, 5, 7, 8, 2, 5, 2, 2, 3, 1, 5, 4, 5, 5,\n",
       "       1, 2, 7, 5, 4, 3, 4, 7, 8, 1, 7, 4, 2, 6, 6, 4, 7, 2, 5, 7, 2, 2,\n",
       "       5, 5, 5, 3, 7, 7, 7, 5, 7, 7, 2, 7, 4, 3, 5, 5, 3, 7, 4, 7, 3, 8,\n",
       "       7, 2, 4, 5, 1, 7, 4, 6, 4, 4, 7, 2, 5, 5, 3, 7, 1, 3, 1, 2, 7, 4,\n",
       "       5, 5, 5, 4, 5, 1, 7, 7, 7, 5, 1, 7, 3, 5, 7, 5, 5, 8, 4, 8, 7, 5,\n",
       "       5, 7, 5, 5, 7, 3, 5, 2, 8, 6, 5, 5, 3, 7, 7, 7, 5, 5, 5, 3, 4, 1,\n",
       "       5, 7, 7, 1, 3, 7, 5, 7, 7, 5, 4, 2, 5, 7, 5, 3, 1, 1, 4, 7, 3, 5,\n",
       "       5, 5, 1, 5, 7, 7, 8, 5, 4, 7, 6, 7, 3, 7, 5, 5, 1, 5, 6, 5, 5, 1,\n",
       "       2, 2, 5, 7, 8, 5, 7, 2, 5, 5, 7, 7, 3, 4, 5, 8, 5, 5, 5, 7, 5, 4,\n",
       "       1, 5, 2, 7, 5, 8, 7, 7, 1, 2, 8, 7, 8, 6, 1, 5, 7, 7, 3, 4, 7, 7,\n",
       "       5, 4, 5, 5, 5, 6, 7, 4, 4, 5, 5, 7, 4, 5, 5, 5, 5, 3, 2, 4, 7, 2,\n",
       "       7, 7, 1, 5, 3, 6, 1, 6, 6, 1, 5, 1, 4, 5, 5, 3, 7, 7, 5, 3, 7, 5,\n",
       "       6, 3, 7, 7, 5, 5, 7, 3, 5, 5, 5, 5, 4, 7, 5, 1, 4, 5, 2, 7, 7, 2,\n",
       "       4, 7, 5, 5, 7, 7, 5, 7, 5, 5, 7, 7, 1, 3, 7, 5, 8, 4, 5, 5, 4, 8,\n",
       "       7, 7, 1, 5, 5, 5, 1, 4, 1, 7, 7, 7, 7, 7, 4, 5, 5, 7, 4, 5, 6, 5,\n",
       "       7, 5, 3, 7, 3, 1, 7, 5, 2, 4, 5, 2, 5, 7, 5, 5, 5, 5, 2, 5, 7, 7,\n",
       "       1, 4, 4, 7, 4, 6, 8, 5, 5, 6, 5, 5, 5, 7, 2, 7, 7, 8, 5, 4, 7, 2,\n",
       "       7, 4, 7, 3, 1, 3, 5, 5, 7, 8, 8, 4, 7, 5, 4, 5, 5, 5, 7, 5, 4, 4,\n",
       "       2, 7, 3, 7, 2, 4, 3, 6, 1, 7, 5, 7, 5, 2, 7, 7, 5, 7, 5, 4, 7, 7,\n",
       "       1, 2, 1, 3, 7, 4, 6, 5], dtype=int64)"
      ]
     },
     "execution_count": 232,
     "metadata": {},
     "output_type": "execute_result"
    }
   ],
   "source": [
    "Y_pred1"
   ]
  },
  {
   "cell_type": "code",
   "execution_count": 294,
   "metadata": {},
   "outputs": [
    {
     "name": "stdout",
     "output_type": "stream",
     "text": [
      "Accuracy using Random Forest: 89.125 %\n"
     ]
    }
   ],
   "source": [
    "score2=accuracy_score(Y_test,Y_pred1)*100\n",
    "\n",
    "print(\"Accuracy using Random Forest:\",score2,\"%\")"
   ]
  },
  {
   "cell_type": "code",
   "execution_count": 235,
   "metadata": {},
   "outputs": [
    {
     "name": "stdout",
     "output_type": "stream",
     "text": [
      "Accuracy using Random Forest: 89.125 %\n"
     ]
    },
    {
     "data": {
      "text/plain": [
       "['rfsingleclass1.sav']"
      ]
     },
     "execution_count": 235,
     "metadata": {},
     "output_type": "execute_result"
    }
   ],
   "source": [
    "\n",
    "filename = 'rfsingleclass1.sav'\n",
    "joblib.dump(rf, filename)"
   ]
  },
  {
   "cell_type": "code",
   "execution_count": 292,
   "metadata": {},
   "outputs": [
    {
     "data": {
      "image/png": "[encoded data removed]",
      "text/plain": [
       "<matplotlib.figure.Figure at 0x2d6a06a1f98>"
      ]
     },
     "metadata": {},
     "output_type": "display_data"
    }
   ],
   "source": [
    "cm = confusion_matrix(y_target=Y_test, \n",
    "                      y_predicted=Y_pred1, \n",
    "                      binary=False)\n",
    "fig, ax = plot_confusion_matrix(conf_mat=cm)\n",
    "plt.show()"
   ]
  },
  {
   "cell_type": "markdown",
   "metadata": {},
   "source": [
    "# Loading  Random Forest Model"
   ]
  },
  {
   "cell_type": "code",
   "execution_count": 268,
   "metadata": {},
   "outputs": [],
   "source": [
    "loaded_model = joblib.load('rfsingleclass1.sav')\n",
    "Y1= loaded_model.predict(X_test)\n"
   ]
  },
  {
   "cell_type": "code",
   "execution_count": 293,
   "metadata": {},
   "outputs": [
    {
     "name": "stdout",
     "output_type": "stream",
     "text": [
      "Score RF 89.125 %\n"
     ]
    },
    {
     "data": {
      "text/plain": [
       "array([0.83333333, 0.85785536, 0.85982478, 0.82706767, 0.48115578])"
      ]
     },
     "execution_count": 293,
     "metadata": {},
     "output_type": "execute_result"
    }
   ],
   "source": [
    "scoreRandomForest=accuracy_score(Y_test,Y1)*100\n",
    "print(\"Score RF\",scoreRandomForest,\"%\")\n",
    "from sklearn.model_selection import cross_val_score\n",
    "\n",
    "scores = cross_val_score(rf, data[features], data[\"Policy1\"], cv=5)\n",
    "scores\n"
   ]
  },
  {
   "cell_type": "code",
   "execution_count": 23,
   "metadata": {
    "scrolled": true
   },
   "outputs": [
    {
     "name": "stdout",
     "output_type": "stream",
     "text": [
      "dot: graph is too large for cairo-renderer bitmaps. Scaling by 0.707558 to fit\n",
      "\n",
      "dot: graph is too large for cairo-renderer bitmaps. Scaling by 0.817356 to fit\n",
      "\n",
      "dot: graph is too large for cairo-renderer bitmaps. Scaling by 0.976283 to fit\n",
      "\n",
      "dot: graph is too large for cairo-renderer bitmaps. Scaling by 0.863767 to fit\n",
      "\n"
     ]
    }
   ],
   "source": [
    "i_tree = 0\n",
    "for tree_in_forest in rf.estimators_:\n",
    "    if i_tree<=3:\n",
    "        dotfile=io.StringIO()\n",
    "        tree.export_graphviz(tree_in_forest, out_file=dotfile)\n",
    "        pydotplus.graph_from_dot_data(dotfile.getvalue()).write_png('dtree'+ str(i_tree) +'.png')\n",
    "        i_tree = i_tree + 1\n",
    "       "
   ]
  },
  {
   "cell_type": "code",
   "execution_count": 24,
   "metadata": {},
   "outputs": [
    {
     "data": {
      "image/png": "[encoded data removed]",
      "text/plain": [
       "<matplotlib.figure.Figure at 0x2d6a0647c50>"
      ]
     },
     "metadata": {},
     "output_type": "display_data"
    }
   ],
   "source": [
    "show_tree(dt,features,'dtree0.png')\n",
    "show_tree(dt,features,'dtree1.png')\n",
    "show_tree(dt,features,'dtree2.png')\n",
    "show_tree(dt,features,'dtree3.png')\n",
    "\n"
   ]
  },
  {
   "cell_type": "markdown",
   "metadata": {},
   "source": [
    "# Multiclass Classification "
   ]
  },
  {
   "cell_type": "code",
   "execution_count": 25,
   "metadata": {
    "collapsed": true
   },
   "outputs": [],
   "source": [
    "Y_train2=train[[\"Policy1\",\"Policy2\"]]\n",
    "Y_test2=test[[\"Policy1\",\"Policy2\"]]"
   ]
  },
  {
   "cell_type": "code",
   "execution_count": 26,
   "metadata": {},
   "outputs": [
    {
     "name": "stdout",
     "output_type": "stream",
     "text": [
      "      Policy1  Policy2\n",
      "3642        7        3\n",
      "785         3        3\n",
      "1595        5        3\n",
      "3827        8        3\n",
      "1604        5        3\n",
      "2996        7        3\n",
      "2735        6        1\n",
      "3237        7        1\n",
      "3986        8        3\n",
      "1243        4        3\n",
      "406         2        3\n",
      "532         2        3\n",
      "1185        4        3\n",
      "1889        5        1\n",
      "3574        7        3\n",
      "1330        5        3\n",
      "2901        7        2\n",
      "1787        5        3\n",
      "949         4        3\n",
      "725         3        3\n",
      "718         3        3\n",
      "255         1        3\n",
      "2891        7        1\n",
      "1466        5        3\n",
      "3434        7        3\n",
      "1707        5        3\n",
      "1861        5        3\n",
      "2205        5        3\n",
      "3320        7        1\n",
      "316         2        3\n",
      "...       ...      ...\n",
      "250         1        3\n",
      "434         2        3\n",
      "407         2        3\n",
      "3126        7        3\n",
      "1852        5        3\n",
      "3556        7        2\n",
      "586         2        1\n",
      "3100        7        2\n",
      "1226        4        1\n",
      "834         3        3\n",
      "3676        7        1\n",
      "1773        5        3\n",
      "3476        7        3\n",
      "411         2        3\n",
      "3785        7        3\n",
      "2697        6        1\n",
      "173         1        3\n",
      "1329        5        3\n",
      "109         1        3\n",
      "3128        7        3\n",
      "1546        5        1\n",
      "3082        7        3\n",
      "246         1        3\n",
      "2771        7        3\n",
      "3084        7        3\n",
      "3987        8        3\n",
      "2010        5        3\n",
      "3111        7        2\n",
      "757         3        3\n",
      "2182        5        3\n",
      "\n",
      "[3199 rows x 2 columns]\n"
     ]
    }
   ],
   "source": [
    "print(Y_train2)\n"
   ]
  },
  {
   "cell_type": "code",
   "execution_count": 27,
   "metadata": {},
   "outputs": [
    {
     "data": {
      "text/plain": [
       "array([[6., 3.],\n",
       "       [7., 3.],\n",
       "       [5., 3.],\n",
       "       ...,\n",
       "       [4., 3.],\n",
       "       [6., 3.],\n",
       "       [5., 3.]])"
      ]
     },
     "execution_count": 27,
     "metadata": {},
     "output_type": "execute_result"
    }
   ],
   "source": [
    "dt=c.fit(X_train,Y_train2)\n",
    "Y_pred3=c.predict(X_test)\n",
    "\n",
    "Y_pred3"
   ]
  },
  {
   "cell_type": "code",
   "execution_count": 82,
   "metadata": {},
   "outputs": [
    {
     "name": "stdout",
     "output_type": "stream",
     "text": [
      "Accuracy using Decision Tree for policy1: 89.0 %\n",
      "Accuracy using Decision Tree for policy2: 80.125 %\n"
     ]
    }
   ],
   "source": [
    "score2=accuracy_score(Y_test2[Y_test2.columns[0]],Y_pred3[:,0])*100\n",
    "score3=accuracy_score(Y_test2[Y_test2.columns[1]],Y_pred3[:,1])*100\n",
    "\n",
    "print(\"Accuracy using Decision Tree for policy1:\",score2,\"%\")\n",
    "print(\"Accuracy using Decision Tree for policy2:\",score3,\"%\")\n"
   ]
  },
  {
   "cell_type": "markdown",
   "metadata": {},
   "source": [
    "# Saving   Models\n"
   ]
  },
  {
   "cell_type": "code",
   "execution_count": 49,
   "metadata": {},
   "outputs": [
    {
     "data": {
      "text/plain": [
       "['singleclassdecisiontree.sav']"
      ]
     },
     "execution_count": 49,
     "metadata": {},
     "output_type": "execute_result"
    }
   ],
   "source": [
    "from sklearn.externals import joblib\n",
    "filename = 'singleclassdecisiontree.sav'\n",
    "joblib.dump(dt1, filename)"
   ]
  },
  {
   "cell_type": "code",
   "execution_count": 30,
   "metadata": {},
   "outputs": [
    {
     "data": {
      "text/plain": [
       "['randomforestsingle.sav']"
      ]
     },
     "execution_count": 30,
     "metadata": {},
     "output_type": "execute_result"
    }
   ],
   "source": [
    "filename = 'randomforestsingle.sav'\n",
    "joblib.dump(rf, filename)"
   ]
  },
  {
   "cell_type": "code",
   "execution_count": 50,
   "metadata": {},
   "outputs": [
    {
     "data": {
      "text/plain": [
       "['dtmulticlass.sav']"
      ]
     },
     "execution_count": 50,
     "metadata": {},
     "output_type": "execute_result"
    }
   ],
   "source": [
    "filename = 'dtmulticlass.sav'\n",
    "joblib.dump(dt, filename)"
   ]
  },
  {
   "cell_type": "markdown",
   "metadata": {},
   "source": [
    "# Random Forest Multiclass"
   ]
  },
  {
   "cell_type": "code",
   "execution_count": 295,
   "metadata": {},
   "outputs": [
    {
     "data": {
      "text/plain": [
       "array([[6., 3.],\n",
       "       [5., 3.],\n",
       "       [5., 3.],\n",
       "       ...,\n",
       "       [4., 3.],\n",
       "       [6., 3.],\n",
       "       [5., 3.]])"
      ]
     },
     "execution_count": 295,
     "metadata": {},
     "output_type": "execute_result"
    }
   ],
   "source": [
    "rf2=rf.fit(X_train,Y_train2)\n",
    "Y_pred4=rf2.predict(X_test)\n",
    "\n",
    "Y_pred4"
   ]
  },
  {
   "cell_type": "code",
   "execution_count": 296,
   "metadata": {},
   "outputs": [
    {
     "name": "stdout",
     "output_type": "stream",
     "text": [
      "Accuracy using Random Forest for policy1: 88.5 %\n",
      "Accuracy using Random Foresr for policy2: 80.875 %\n"
     ]
    }
   ],
   "source": [
    "score2_rf=accuracy_score(Y_test2[Y_test2.columns[0]],Y_pred4[:,0])*100\n",
    "score3_rf=accuracy_score(Y_test2[Y_test2.columns[1]],Y_pred4[:,1])*100\n",
    "\n",
    "print(\"Accuracy using Random Forest for policy1:\",score2_rf,\"%\")\n",
    "print(\"Accuracy using Random Foresr for policy2:\",score3_rf,\"%\")"
   ]
  },
  {
   "cell_type": "code",
   "execution_count": 64,
   "metadata": {},
   "outputs": [
    {
     "data": {
      "text/plain": [
       "['rfmulticlass.sav']"
      ]
     },
     "execution_count": 64,
     "metadata": {},
     "output_type": "execute_result"
    }
   ],
   "source": [
    "filename = 'rfmulticlass.sav'\n",
    "joblib.dump(rf, filename)"
   ]
  },
  {
   "cell_type": "code",
   "execution_count": 284,
   "metadata": {},
   "outputs": [
    {
     "data": {
      "text/plain": [
       "['dtclass950.sav']"
      ]
     },
     "execution_count": 284,
     "metadata": {},
     "output_type": "execute_result"
    }
   ],
   "source": [
    "filename = 'dtclass950.sav'\n",
    "joblib.dump(dt, filename)"
   ]
  },
  {
   "cell_type": "code",
   "execution_count": null,
   "metadata": {
    "collapsed": true
   },
   "outputs": [],
   "source": []
  }
 ],
 "metadata": {
  "kernelspec": {
   "display_name": "Python 3",
   "language": "python",
   "name": "python3"
  },
  "language_info": {
   "codemirror_mode": {
    "name": "ipython",
    "version": 3
   },
   "file_extension": ".py",
   "mimetype": "text/x-python",
   "name": "python",
   "nbconvert_exporter": "python",
   "pygments_lexer": "ipython3",
   "version": "3.6.2"
  }
 },
 "nbformat": 4,
 "nbformat_minor": 2
}
